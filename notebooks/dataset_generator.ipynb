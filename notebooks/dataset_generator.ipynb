{
 "cells": [
  {
   "cell_type": "code",
   "execution_count": null,
   "metadata": {},
   "outputs": [],
   "source": [
    "import sys\n",
    "import os\n",
    "\n",
    "module_path = os.path.abspath(os.path.join('..'))\n",
    "sys.path.append(module_path)\n",
    "module_path"
   ]
  },
  {
   "cell_type": "code",
   "execution_count": 2,
   "metadata": {},
   "outputs": [],
   "source": [
    "os.chdir(module_path)"
   ]
  },
  {
   "cell_type": "code",
   "execution_count": 69,
   "metadata": {},
   "outputs": [],
   "source": [
    "import numpy as np\n",
    "import pandas as pd\n",
    "from io import StringIO\n",
    "\n",
    "\n",
    "def create_adj_matrix(edges):\n",
    "    # after the mapping, nodes are numbered from 0 to max\n",
    "    num_nodes = np.max(edges)+1\n",
    "    adj_matrix = np.zeros((num_nodes, num_nodes), dtype=int)\n",
    "    # The edge list takes into account that the edges are undirected,\n",
    "    # so already it contains the edges of the two possible permutations of nodes,\n",
    "    # and so there is no need to insert a 1 in the transposed positions\n",
    "    adj_matrix[edges[:,0], edges[:,1]] = 1\n",
    "    #adj_matrix[edges[:,1], edges[:,0]] = 1\n",
    "    return adj_matrix\n",
    "\n",
    "def read_mapping(file_path):\n",
    "    # string indentifying the beginning of the mapping\n",
    "    start_sentence = \"Component 0:\"\n",
    "\n",
    "    data_lines = [] # to store the lines after the target sentence\n",
    "    # read the file line by line\n",
    "    with open(file_path, 'r') as file:\n",
    "        start_reading = False\n",
    "        for line in file:\n",
    "            # check if the line starts with the sentence\n",
    "            if line.startswith(start_sentence):\n",
    "                start_reading = True\n",
    "\n",
    "            # once the target sentence is found, collect lines until a blank line is found\n",
    "            if start_reading:\n",
    "                # stop when a blank line is encountered\n",
    "                if line.strip() == \"\":\n",
    "                    break\n",
    "                # append non-blank lines\n",
    "                data_lines.append(line.strip())\n",
    "\n",
    "    # convert list of lines into a single string\n",
    "    data_str = '\\n'.join(data_lines)\n",
    "\n",
    "    # read data into a DataFrame\n",
    "    return pd.read_csv(StringIO(data_str), sep='\\s+') \n",
    "\n",
    "def normalize(values):\n",
    "    #min-max normalization\n",
    "    min_val = np.min(values)\n",
    "    max_val = np.max(values)\n",
    "    return (values-min_val)/(max_val-min_val)\n",
    "\n",
    "def get_node_features(readme_path, nl_file_path):\n",
    "\n",
    "    mapping = read_mapping(readme_path)\n",
    "    # 'value' stands for target value, 'original' stands for original value before the mapping\n",
    "    mapping.rename(columns={mapping.columns[0]: 'value', mapping.columns[1]: 'original'}, inplace=True)\n",
    "\n",
    "    node_labels = pd.read_csv(nl_file_path, header=None)\n",
    "    node_labels.rename(columns={node_labels.columns[0] : 'value'}, inplace=True)\n",
    "\n",
    "    node_features = pd.merge(node_labels, mapping, on='value', how='left')\n",
    "\n",
    "    # node type: paper or keyword\n",
    "    node_features['type'] = pd.to_numeric(node_features.original, errors='coerce')\n",
    "    node_features['type'] = 1-node_features.type.isna().astype(int) # 0 if paper id, 1 if keyword\n",
    "\n",
    "    node_features['value'] = normalize(node_features['value'])\n",
    "    assert np.all(node_features['value'].between(0,1)) #values are in [0,1]\n",
    "\n",
    "    return node_features[['type', 'value']].values\n"
   ]
  },
  {
   "cell_type": "code",
   "execution_count": 70,
   "metadata": {},
   "outputs": [
    {
     "data": {
      "text/plain": [
       "array([[1.00000000e+00, 0.00000000e+00],\n",
       "       [1.00000000e+00, 2.41990127e-05],\n",
       "       [1.00000000e+00, 4.83980254e-05],\n",
       "       ...,\n",
       "       [0.00000000e+00, 1.55478656e-01],\n",
       "       [0.00000000e+00, 2.42958087e-02],\n",
       "       [0.00000000e+00, 1.01563256e-01]])"
      ]
     },
     "execution_count": 70,
     "metadata": {},
     "output_type": "execute_result"
    }
   ],
   "source": [
    "from os.path import join\n",
    "\n",
    "base_path = \"data\\datasets\\DBLP_v1\"\n",
    "dataset_name = \"DBLP_v1\"\n",
    "readme_path = join(base_path, f\"readme.txt\")\n",
    "nl_file_path = join(base_path, f\"{dataset_name}_node_labels.txt\")\n",
    "\n",
    "node_features = get_node_features(readme_path, nl_file_path)\n",
    "node_features"
   ]
  },
  {
   "cell_type": "code",
   "execution_count": 52,
   "metadata": {},
   "outputs": [],
   "source": [
    "from os.path import join\n",
    "from src.dataset.instances.graph import GraphInstance\n",
    "\n",
    "original_instances = []\n",
    "created_instances = []\n",
    "\n",
    "base_path = \"data\\datasets\\DBLP_v1\"\n",
    "dataset_name = \"DBLP_v1\"\n",
    "\n",
    "#Paths to the files of the DBLP_v1 dataset\n",
    "#sparse (block diagonal) adjacency matrix for all graphs (node_id, node_id)\n",
    "adj_file_path = join(base_path, f\"{dataset_name}_A.txt\")\n",
    "#column vector of graph identifiers for all nodes of all graphs\n",
    "gid_file_path = join(base_path, f\"{dataset_name}_graph_indicator.txt\")\n",
    "#class labels for all graphs in the dataset\n",
    "gl_file_path = join(base_path, f\"{dataset_name}_graph_labels.txt\")\n",
    "#column vector of node labels\n",
    "nl_file_path = join(base_path, f\"{dataset_name}_node_labels.txt\")\n",
    "#labels for the edges in DS_A_sparse.txt\n",
    "el_file_path = join(base_path, f\"{dataset_name}_edge_labels.txt\")\n",
    "#extract the original labels from readme file\n",
    "readme_path = join(base_path, f\"readme.txt\")\n",
    "\n",
    "#Loading the dataset\n",
    "labels = np.loadtxt(gl_file_path, dtype=int)\n",
    "node_labels = np.loadtxt(nl_file_path, dtype=int)\n",
    "edges = np.genfromtxt(adj_file_path, dtype=int, delimiter=',')\n",
    "edge_labels = np.loadtxt(el_file_path, dtype=int)\n",
    "graph_ind = np.loadtxt(gid_file_path, dtype=int)\n",
    "node_features = get_node_features(readme_path, nl_file_path)\n",
    "\n",
    "assert np.all(np.diff(graph_ind)>=0) #the array of graph indicators is monotone increasing\n",
    "#it means that we can subtract the min node of each graph to its nodes,\n",
    "#in this way we obtain smaller adjacency matrices for all the graphs\n",
    "\n",
    "#renaming the nodes so that are numbered from 0 to n-1\n",
    "edges = edges-1\n",
    "#list of edges in which each node's number is replaced with the graph id it belongs to\n",
    "edges_gid = graph_ind[edges]\n",
    "\n",
    "graph_ids = np.unique(graph_ind) #list of graph identifiers\n",
    "#np.random.shuffle(graph_ids)#shuffle randomly the graph ids\n",
    "for id in graph_ids:\n",
    "    #masks for filtering accordingly to the graph identifier\n",
    "    node_mask = (graph_ind == id) #mask for nodes\n",
    "    edge_mask = (edges_gid == id) #mask for edges\n",
    "\n",
    "    filtered_edges = edges[np.any(edge_mask, axis=1)] #select edges of the graph with identifier id\n",
    "    assert np.all(np.diff(np.unique(filtered_edges))==1)\n",
    "\n",
    "    min_node = filtered_edges.min() #number identifier of the minimum node in the subgraph\n",
    "    #subtract the minimum node to the edges, so that nodes are numbered from 0 to k,\n",
    "    #k is the maximum node of the mapping\n",
    "    #This step allows us to reduce the size of the adjacency matrix\n",
    "    #the adjacency matrix now is quadratic in the size of the subgraph\n",
    "    mapped_edges = filtered_edges-min_node\n",
    "    assert np.all(np.diff(np.unique(mapped_edges))==1)\n",
    "\n",
    "    adj_matrix = create_adj_matrix(mapped_edges)\n",
    "\n",
    "    #if the matrix is singular then ignore the instance\n",
    "    if not np.isclose(np.linalg.det(adj_matrix), 0):\n",
    "\n",
    "        original_instances.append({\n",
    "            \"graph\": id,\n",
    "            'label': labels[id-1],\n",
    "            'edges': filtered_edges,\n",
    "            'node_features': node_labels.reshape(-1,1),\n",
    "            'edge_features': edge_labels[np.any(edge_mask, axis=1)]\n",
    "        })\n",
    "\n",
    "        created_instances.append(\n",
    "            GraphInstance(\n",
    "                id,\n",
    "                label=labels[id-1],\n",
    "                data=adj_matrix,\n",
    "                node_features=node_features[node_mask],\n",
    "                edge_features=np.eye(3)[edge_labels[np.any(edge_mask, axis=1)]]\n",
    "            )\n",
    "        )"
   ]
  },
  {
   "cell_type": "code",
   "execution_count": 53,
   "metadata": {},
   "outputs": [
    {
     "data": {
      "text/plain": [
       "{'graph': 31,\n",
       " 'label': 1,\n",
       " 'edges': array([[313, 314],\n",
       "        [314, 313],\n",
       "        [313, 315],\n",
       "        [315, 313],\n",
       "        [313, 316],\n",
       "        [316, 313],\n",
       "        [314, 315],\n",
       "        [315, 314],\n",
       "        [314, 316],\n",
       "        [316, 314],\n",
       "        [315, 316],\n",
       "        [316, 315]]),\n",
       " 'node_features': array([[   0],\n",
       "        [   1],\n",
       "        [   2],\n",
       "        ...,\n",
       "        [6425],\n",
       "        [1004],\n",
       "        [4197]]),\n",
       " 'edge_features': array([1, 1, 1, 1, 1, 1, 2, 2, 2, 2, 2, 2])}"
      ]
     },
     "execution_count": 53,
     "metadata": {},
     "output_type": "execute_result"
    }
   ],
   "source": [
    "original_instances[12]"
   ]
  },
  {
   "cell_type": "code",
   "execution_count": 54,
   "metadata": {},
   "outputs": [
    {
     "name": "stdout",
     "output_type": "stream",
     "text": [
      "Graph:  31\n",
      "label:  1\n",
      "Edges: \n",
      " [[0 1 1 1]\n",
      " [1 0 1 1]\n",
      " [1 1 0 1]\n",
      " [1 1 1 0]]\n",
      "Node features: \n",
      " [[1.         0.00646114]\n",
      " [0.         0.00220211]\n",
      " [0.         0.00648534]\n",
      " [0.         0.00370245]]\n",
      "Edge features: \n",
      " [[0. 1. 0.]\n",
      " [0. 1. 0.]\n",
      " [0. 1. 0.]\n",
      " [0. 1. 0.]\n",
      " [0. 1. 0.]\n",
      " [0. 1. 0.]\n",
      " [0. 0. 1.]\n",
      " [0. 0. 1.]\n",
      " [0. 0. 1.]\n",
      " [0. 0. 1.]\n",
      " [0. 0. 1.]\n",
      " [0. 0. 1.]]\n",
      "Edge list: [(0, 1), (0, 2), (0, 3), (1, 2), (1, 3), (2, 3)]\n"
     ]
    },
    {
     "data": {
      "image/png": "[encoded data removed]",
      "text/plain": [
       "<Figure size 640x480 with 1 Axes>"
      ]
     },
     "metadata": {},
     "output_type": "display_data"
    }
   ],
   "source": [
    "import networkx as nx\n",
    "\n",
    "graph_instance = created_instances[12]\n",
    "print(\"Graph: \", graph_instance.id)\n",
    "print(\"label: \", graph_instance.label)\n",
    "print(\"Edges: \\n\", graph_instance.data)\n",
    "print(\"Node features: \\n\", graph_instance.node_features)\n",
    "print(\"Edge features: \\n\", graph_instance.edge_features)\n",
    "G = graph_instance.get_nx()\n",
    "print(\"Edge list:\", list(G.edges))\n",
    "nx.draw_circular(G)"
   ]
  }
 ],
 "metadata": {
  "kernelspec": {
   "display_name": "XAI39",
   "language": "python",
   "name": "python3"
  },
  "language_info": {
   "codemirror_mode": {
    "name": "ipython",
    "version": 3
   },
   "file_extension": ".py",
   "mimetype": "text/x-python",
   "name": "python",
   "nbconvert_exporter": "python",
   "pygments_lexer": "ipython3",
   "version": "3.9.19"
  }
 },
 "nbformat": 4,
 "nbformat_minor": 2
}
