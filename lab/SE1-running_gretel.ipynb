{
 "cells": [
  {
   "cell_type": "markdown",
   "metadata": {},
   "source": [
    "### Setting the paths and imports"
   ]
  },
  {
   "cell_type": "code",
   "execution_count": 2,
   "metadata": {},
   "outputs": [
    {
     "data": {
      "text/plain": [
       "'/NFSHOME/mprado/AIIM/GRETEL/silver/GRETEL'"
      ]
     },
     "execution_count": 2,
     "metadata": {},
     "output_type": "execute_result"
    }
   ],
   "source": [
    "import sys\n",
    "import os\n",
    "module_path = os.path.abspath(os.path.join('..'))\n",
    "sys.path.append(module_path)\n",
    "module_path"
   ]
  },
  {
   "cell_type": "code",
   "execution_count": 3,
   "metadata": {},
   "outputs": [],
   "source": [
    "os.chdir(module_path)"
   ]
  },
  {
   "cell_type": "code",
   "execution_count": 4,
   "metadata": {},
   "outputs": [],
   "source": [
    "from src.evaluation.evaluator_manager import EvaluatorManager\n",
    "from src.evaluation.evaluator_manager_do import EvaluatorManager as PairedEvaluatorManager\n",
    "from src.evaluation.future.pipeline_manager_do import PipelineManager\n",
    "\n",
    "from src.utils.context import Context\n",
    "import sys"
   ]
  },
  {
   "cell_type": "code",
   "execution_count": 5,
   "metadata": {},
   "outputs": [],
   "source": [
    "config_f_name = 'SE1-TCR-128-28_TCO_Ens[OBS+2xiRand+2xRSGG]-Bidirectional.jsonc'"
   ]
  },
  {
   "cell_type": "markdown",
   "metadata": {},
   "source": [
    "### Evaluating the explainer"
   ]
  },
  {
   "cell_type": "code",
   "execution_count": 7,
   "metadata": {},
   "outputs": [
    {
     "name": "stdout",
     "output_type": "stream",
     "text": [
      "Generating context for: /NFSHOME/mprado/AIIM/GRETEL/silver/GRETEL/lab/config/SE1-TCR-128-28_TCO_Ens[OBS+2xiRand+2xRSGG]-Bidirectional.jsonc\n",
      "2024-06-28 15:42:47,1595248689 | INFO | 3147793 - Executing: /NFSHOME/mprado/AIIM/GRETEL/silver/GRETEL/lab/config/SE1-TCR-128-28_TCO_Ens[OBS+2xiRand+2xRSGG]-Bidirectional.jsonc Run: 1\n",
      "2024-06-28 15:42:47,1595248702 | INFO | 3147793 - Creating the evaluation manager....................................\n",
      "2024-06-28 15:42:47,1595248714 | INFO | 3147793 - Creating the pipelines......................................................\n"
     ]
    },
    {
     "name": "stdout",
     "output_type": "stream",
     "text": [
      "2024-06-28 15:42:47,1595248751 | INFO | 3147793 - Created: RuntimeStage-32d0495199bb42f64de5f5019cd55b05\n",
      "2024-06-28 15:42:47,1595248785 | INFO | 3147793 - Created: GraphEditDistanceStage-ad3d938e7fde8b708c67f137db4b7a82\n",
      "2024-06-28 15:42:47,1595248809 | INFO | 3147793 - Created: CorrectnessStage-b05b6790d4e946d25f9c3b9bac7ca0a0\n",
      "2024-06-28 15:42:47,1595248833 | INFO | 3147793 - Created: OracleCallsStage-52b1ffc4214b8dce3b740ff61fa82f99\n",
      "2024-06-28 15:42:47,1595248857 | INFO | 3147793 - Created: OracleAccuracyStage-51fe8f8829003263915daa81e25ac6a1\n",
      "2024-06-28 15:42:47,1595248881 | INFO | 3147793 - Created: SparsityStage-d59690a38e5b38713a364bd199928238\n",
      "2024-06-28 15:42:47,1595248905 | INFO | 3147793 - Created: FidelityStage-b5471242d6f8b06ed3712334b0234ed1\n",
      "2024-06-28 15:42:47,1595248918 | INFO | 3147793 - Instantiating: src.utils.metrics.ged.GraphEditDistanceMetric\n",
      "2024-06-28 15:42:47,1595248930 | INFO | 3147793 - Created: InstabilityStage-72075409878cab808b375a825e3d3f72\n",
      "2024-06-28 15:42:47,1595248954 | INFO | 3147793 - Loading: TreeCyclesRand-266bb3721206805597afc8c4184fe0ab\n",
      "2024-06-28 15:42:47,1595248977 | INFO | 3147793 - Created: TreeCyclesRand-266bb3721206805597afc8c4184fe0ab\n",
      "2024-06-28 15:42:47,1595249001 | INFO | 3147793 - Loading: TreeCyclesOracle-8f8e216deff127e0218ff13e1490c1a2\n",
      "2024-06-28 15:42:47,1595249039 | INFO | 3147793 - Created: TreeCyclesOracle-8f8e216deff127e0218ff13e1490c1a2\n",
      "2024-06-28 15:42:47,1595249041 | INFO | 3147793 - Instantiating: src.explainer.ensemble.aggregators.bidirectional.ExplanationBidirectionalSearch\n",
      "2024-06-28 15:42:47,1595249054 | INFO | 3147793 - Instantiating: src.explainer.ensemble.aggregators.nodes.average.AverageAggregator\n",
      "2024-06-28 15:42:47,1595249055 | INFO | 3147793 - Instantiating: src.explainer.ensemble.aggregators.filters.correctness.CorrectnessFilter\n",
      "2024-06-28 15:42:47,1595249056 | INFO | 3147793 - Instantiating: src.explainer.heuristic.obs.ObliviousBidirectionalSearchExplainer\n",
      "2024-06-28 15:42:47,1595249064 | INFO | 3147793 - Instantiating: src.explainer.heuristic.obs_dist.ObliviousBidirectionalDistance\n",
      "2024-06-28 15:42:47,1595249068 | INFO | 3147793 - Instantiating: src.explainer.search.i_rand.IRandExplainer\n",
      "2024-06-28 15:42:47,1595249092 | INFO | 3147793 - Instantiating: src.explainer.search.i_rand.IRandExplainer\n",
      "2024-06-28 15:42:47,1595249103 | INFO | 3147793 - Instantiating: src.explainer.generative.rsgg.RSGG\n",
      "2024-06-28 15:42:47,1595249109 | INFO | 3147793 - Instantiating: src.explainer.generative.gans.graph.model.GAN\n",
      "2024-06-28 15:42:47,1595249125 | INFO | 3147793 - Instantiating: src.explainer.generative.gans.graph.res_gen.ResGenerator\n",
      "2024-06-28 15:42:47,1595249165 | INFO | 3147793 - Instantiating: torch.optim.SGD\n",
      "2024-06-28 15:42:47,1595249178 | INFO | 3147793 - Instantiating: src.explainer.generative.gans.graph.discriminators.SimpleDiscriminator\n",
      "2024-06-28 15:42:47,1595249183 | INFO | 3147793 - Instantiating: torch.optim.SGD\n",
      "2024-06-28 15:42:47,1595249183 | INFO | 3147793 - Instantiating: torch.nn.BCELoss\n",
      "2024-06-28 15:42:47,1595249209 | INFO | 3147793 - Loading: GAN-4833c4555b8634d93e5bac8ec10092ca\n",
      "2024-06-28 15:42:47,1595249225 | INFO | 3147793 - Instantiating: src.explainer.generative.gans.graph.model.GAN\n",
      "2024-06-28 15:42:47,1595249226 | INFO | 3147793 - Instantiating: src.explainer.generative.gans.graph.res_gen.ResGenerator\n",
      "2024-06-28 15:42:47,1595249229 | INFO | 3147793 - Instantiating: torch.optim.SGD\n",
      "2024-06-28 15:42:47,1595249230 | INFO | 3147793 - Instantiating: src.explainer.generative.gans.graph.discriminators.SimpleDiscriminator\n",
      "2024-06-28 15:42:47,1595249231 | INFO | 3147793 - Instantiating: torch.optim.SGD\n",
      "2024-06-28 15:42:47,1595249232 | INFO | 3147793 - Instantiating: torch.nn.BCELoss\n",
      "2024-06-28 15:42:47,1595249255 | INFO | 3147793 - Loading: GAN-259f56f20fadb0ade79409b436e2efe4\n",
      "2024-06-28 15:42:47,1595249285 | INFO | 3147793 - Instantiating: src.utils.samplers.partial_order_samplers.PositiveAndNegativeEdgeSampler\n",
      "2024-06-28 15:42:47,1595249323 | INFO | 3147793 - Creating: RSGG-4ffa4b40d9bf63f3464024d39a4236f2\n",
      "2024-06-28 15:42:47,1595249335 | INFO | 3147793 - RSGG trained on cpu in: 0.012224674224853516 secs\n",
      "2024-06-28 15:42:47,1595249348 | INFO | 3147793 - Saved: RSGG-4ffa4b40d9bf63f3464024d39a4236f2\n",
      "2024-06-28 15:42:47,1595249364 | INFO | 3147793 - Instantiating: src.explainer.generative.rsgg.RSGG\n",
      "2024-06-28 15:42:47,1595249365 | INFO | 3147793 - Instantiating: src.explainer.generative.gans.graph.model.GAN\n",
      "2024-06-28 15:42:47,1595249366 | INFO | 3147793 - Instantiating: src.explainer.generative.gans.graph.res_gen.ResGenerator\n",
      "2024-06-28 15:42:47,1595249369 | INFO | 3147793 - Instantiating: torch.optim.SGD\n",
      "2024-06-28 15:42:47,1595249370 | INFO | 3147793 - Instantiating: src.explainer.generative.gans.graph.discriminators.SimpleDiscriminator\n",
      "2024-06-28 15:42:47,1595249372 | INFO | 3147793 - Instantiating: torch.optim.SGD\n",
      "2024-06-28 15:42:47,1595249372 | INFO | 3147793 - Instantiating: torch.nn.BCELoss\n",
      "2024-06-28 15:42:47,1595249394 | INFO | 3147793 - Loading: GAN-a848c9aeea6fbc16bfa004edda6c918b\n",
      "2024-06-28 15:42:47,1595249400 | INFO | 3147793 - Instantiating: src.explainer.generative.gans.graph.model.GAN\n",
      "2024-06-28 15:42:47,1595249401 | INFO | 3147793 - Instantiating: src.explainer.generative.gans.graph.res_gen.ResGenerator\n",
      "2024-06-28 15:42:47,1595249404 | INFO | 3147793 - Instantiating: torch.optim.SGD\n",
      "2024-06-28 15:42:47,1595249405 | INFO | 3147793 - Instantiating: src.explainer.generative.gans.graph.discriminators.SimpleDiscriminator\n",
      "2024-06-28 15:42:47,1595249406 | INFO | 3147793 - Instantiating: torch.optim.SGD\n",
      "2024-06-28 15:42:47,1595249407 | INFO | 3147793 - Instantiating: torch.nn.BCELoss\n",
      "2024-06-28 15:42:47,1595249437 | INFO | 3147793 - Loading: GAN-35248f23ed0d7398cabc64e1d622f7be\n",
      "2024-06-28 15:42:47,1595249457 | INFO | 3147793 - Instantiating: src.utils.samplers.partial_order_samplers.PositiveAndNegativeEdgeSampler\n",
      "2024-06-28 15:42:47,1595249488 | INFO | 3147793 - Creating: RSGG-e30585392430028c31fb4c342cbc76bd\n",
      "2024-06-28 15:42:47,1595249500 | INFO | 3147793 - RSGG trained on cpu in: 0.012269973754882812 secs\n",
      "2024-06-28 15:42:47,1595249513 | INFO | 3147793 - Saved: RSGG-e30585392430028c31fb4c342cbc76bd\n",
      "2024-06-28 15:42:47,1595249548 | INFO | 3147793 - Creating: ExplanationBidirectionalSearch-6fbbecefa9be608ffe32810f0ca4db22\n",
      "2024-06-28 15:42:47,1595249561 | INFO | 3147793 - ExplainerEnsemble trained in: 0.011936187744140625 secs\n",
      "2024-06-28 15:42:47,1595249574 | INFO | 3147793 - Saved: ExplanationBidirectionalSearch-6fbbecefa9be608ffe32810f0ca4db22\n",
      "2024-06-28 15:42:48,1595249609 | INFO | 3147793 - Created: ExplanationBidirectionalSearch-6fbbecefa9be608ffe32810f0ca4db22\n",
      "2024-06-28 15:42:48,1595249632 | INFO | 3147793 - Evaluating the explainers.............................................................\n",
      "2024-06-28 15:42:48,1595249633 | INFO | 3147793 - Evaluating instance with id 0\n",
      "2024-06-28 15:42:53,1595254625 | INFO | 3147793 - The counterfactual for 0 was reduced\n"
     ]
    },
    {
     "ename": "KeyError",
     "evalue": "'RuntimeStage'",
     "output_type": "error",
     "traceback": [
      "\u001b[0;31m---------------------------------------------------------------------------\u001b[0m",
      "\u001b[0;31mKeyError\u001b[0m                                  Traceback (most recent call last)",
      "Cell \u001b[0;32mIn[7], line 17\u001b[0m\n\u001b[1;32m     12\u001b[0m pipeline_manager \u001b[38;5;241m=\u001b[39m PipelineManager(context)\n\u001b[1;32m     14\u001b[0m context\u001b[38;5;241m.\u001b[39mlogger\u001b[38;5;241m.\u001b[39minfo(\n\u001b[1;32m     15\u001b[0m     \u001b[38;5;124m\"\u001b[39m\u001b[38;5;124mEvaluating the explainers.............................................................\u001b[39m\u001b[38;5;124m\"\u001b[39m\n\u001b[1;32m     16\u001b[0m )\n\u001b[0;32m---> 17\u001b[0m \u001b[43mpipeline_manager\u001b[49m\u001b[38;5;241;43m.\u001b[39;49m\u001b[43mexecute\u001b[49m\u001b[43m(\u001b[49m\u001b[43m)\u001b[49m\n",
      "File \u001b[0;32m~/AIIM/GRETEL/silver/GRETEL/src/evaluation/future/pipeline_manager_do.py:81\u001b[0m, in \u001b[0;36mPipelineManager.execute\u001b[0;34m(self)\u001b[0m\n\u001b[1;32m     77\u001b[0m \u001b[38;5;250m\u001b[39m\u001b[38;5;124;03m\"\"\"\u001b[39;00m\n\u001b[1;32m     78\u001b[0m \u001b[38;5;124;03mEvaluates each combination of dataset-oracle-explainer using the chosen evaluation metrics\u001b[39;00m\n\u001b[1;32m     79\u001b[0m \u001b[38;5;124;03m\"\"\"\u001b[39;00m\n\u001b[1;32m     80\u001b[0m \u001b[38;5;28;01mfor\u001b[39;00m pipeline \u001b[38;5;129;01min\u001b[39;00m \u001b[38;5;28mself\u001b[39m\u001b[38;5;241m.\u001b[39m_pipelines:\n\u001b[0;32m---> 81\u001b[0m     \u001b[43mpipeline\u001b[49m\u001b[38;5;241;43m.\u001b[39;49m\u001b[43mrun\u001b[49m\u001b[43m(\u001b[49m\u001b[43m)\u001b[49m\n",
      "File \u001b[0;32m~/AIIM/GRETEL/silver/GRETEL/src/evaluation/future/pipeline.py:114\u001b[0m, in \u001b[0;36mPipeline.run\u001b[0;34m(self)\u001b[0m\n\u001b[1;32m    112\u001b[0m \u001b[38;5;28;01mfor\u001b[39;00m inst \u001b[38;5;129;01min\u001b[39;00m test_set:\n\u001b[1;32m    113\u001b[0m     \u001b[38;5;28mself\u001b[39m\u001b[38;5;241m.\u001b[39m_logger\u001b[38;5;241m.\u001b[39minfo(\u001b[38;5;124m\"\u001b[39m\u001b[38;5;124mEvaluating instance with id \u001b[39m\u001b[38;5;132;01m%s\u001b[39;00m\u001b[38;5;124m\"\u001b[39m, \u001b[38;5;28mstr\u001b[39m(inst\u001b[38;5;241m.\u001b[39mid))\n\u001b[0;32m--> 114\u001b[0m     explanation \u001b[38;5;241m=\u001b[39m \u001b[38;5;28;43mself\u001b[39;49m\u001b[38;5;241;43m.\u001b[39;49m\u001b[43m_real_run\u001b[49m\u001b[43m(\u001b[49m\u001b[43minst\u001b[49m\u001b[43m)\u001b[49m\n\u001b[1;32m    115\u001b[0m     \u001b[38;5;28mself\u001b[39m\u001b[38;5;241m.\u001b[39m_logger\u001b[38;5;241m.\u001b[39minfo(\u001b[38;5;124m'\u001b[39m\u001b[38;5;124mevaluated instance with id \u001b[39m\u001b[38;5;132;01m%s\u001b[39;00m\u001b[38;5;124m'\u001b[39m, \u001b[38;5;28mstr\u001b[39m(inst\u001b[38;5;241m.\u001b[39mid))\n\u001b[1;32m    117\u001b[0m     \u001b[38;5;28mself\u001b[39m\u001b[38;5;241m.\u001b[39m_explanations\u001b[38;5;241m.\u001b[39mappend(explanation)\n",
      "File \u001b[0;32m~/AIIM/GRETEL/silver/GRETEL/src/evaluation/future/pipeline.py:135\u001b[0m, in \u001b[0;36mPipeline._real_run\u001b[0;34m(self, data_instance)\u001b[0m\n\u001b[1;32m    133\u001b[0m \u001b[38;5;28;01mfor\u001b[39;00m stage \u001b[38;5;129;01min\u001b[39;00m \u001b[38;5;28mself\u001b[39m\u001b[38;5;241m.\u001b[39m_stages:     \n\u001b[1;32m    134\u001b[0m         explanation \u001b[38;5;241m=\u001b[39m stage\u001b[38;5;241m.\u001b[39mprocess(explanation)\n\u001b[0;32m--> 135\u001b[0m         \u001b[38;5;28;43mself\u001b[39;49m\u001b[38;5;241;43m.\u001b[39;49m\u001b[43m_results\u001b[49m\u001b[43m[\u001b[49m\u001b[38;5;28;43mtype\u001b[39;49m\u001b[43m(\u001b[49m\u001b[43mstage\u001b[49m\u001b[43m)\u001b[49m\u001b[38;5;241;43m.\u001b[39;49m\u001b[38;5;18;43m__name__\u001b[39;49m\u001b[43m]\u001b[49m\u001b[38;5;241m.\u001b[39mappend({\u001b[38;5;124m\"\u001b[39m\u001b[38;5;124mid\u001b[39m\u001b[38;5;124m\"\u001b[39m:\u001b[38;5;28mstr\u001b[39m(explanation\u001b[38;5;241m.\u001b[39minput_instance\u001b[38;5;241m.\u001b[39mid),\n\u001b[1;32m    136\u001b[0m                                                     \u001b[38;5;124m\"\u001b[39m\u001b[38;5;124mvalue\u001b[39m\u001b[38;5;124m\"\u001b[39m:explanation\u001b[38;5;241m.\u001b[39m_stages_info[[\u001b[38;5;28mtype\u001b[39m(stage)\u001b[38;5;241m.\u001b[39m\u001b[38;5;18m__name__\u001b[39m]]})\n",
      "\u001b[0;31mKeyError\u001b[0m: 'RuntimeStage'"
     ]
    }
   ],
   "source": [
    "config_path = os.path.join(module_path, 'lab', 'config', config_f_name)\n",
    "runno = 1\n",
    "    \n",
    "print(f\"Generating context for: {config_path}\")\n",
    "context = Context.get_context(config_path)\n",
    "context.run_number = runno\n",
    "\n",
    "context.logger.info(f\"Executing: {context.config_file} Run: {context.run_number}\")\n",
    "context.logger.info(\"Creating the evaluation manager....................................\")\n",
    "\n",
    "context.logger.info(\"Creating the pipelines......................................................\")\n",
    "pipeline_manager = PipelineManager(context)\n",
    "\n",
    "context.logger.info(\n",
    "    \"Evaluating the explainers.............................................................\"\n",
    ")\n",
    "pipeline_manager.execute()"
   ]
  },
  {
   "cell_type": "markdown",
   "metadata": {},
   "source": [
    "### Aggregating the results into a Table"
   ]
  },
  {
   "cell_type": "code",
   "execution_count": null,
   "metadata": {},
   "outputs": [],
   "source": [
    "from src.data_analysis.data_analyzer import DataAnalyzer as data_analyzer\n",
    "import pandas as pd\n",
    "results_path = os.path.join(module_path, 'lab', 'output_legacy', 'results')\n",
    "stats_file_path = os.path.join(module_path, 'lab', 'stats_legacy', 'results.csv')\n",
    "res = data_analyzer.create_aggregated_dataframe(results_path)\n",
    "res.to_csv(stats_file_path)\n",
    "res"
   ]
  }
 ],
 "metadata": {
  "kernelspec": {
   "display_name": "XAI39",
   "language": "python",
   "name": "python3"
  },
  "language_info": {
   "codemirror_mode": {
    "name": "ipython",
    "version": 3
   },
   "file_extension": ".py",
   "mimetype": "text/x-python",
   "name": "python",
   "nbconvert_exporter": "python",
   "pygments_lexer": "ipython3",
   "version": "3.9.17"
  }
 },
 "nbformat": 4,
 "nbformat_minor": 2
}
